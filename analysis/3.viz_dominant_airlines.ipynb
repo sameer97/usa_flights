{
 "cells": [
  {
   "cell_type": "code",
   "execution_count": 0,
   "metadata": {
    "application/vnd.databricks.v1+cell": {
     "cellMetadata": {
      "byteLimit": 2048000,
      "rowLimit": 10000
     },
     "inputWidgets": {},
     "nuid": "0a19f921-8028-4dff-8f83-86443b88169b",
     "showTitle": false,
     "title": ""
    }
   },
   "outputs": [],
   "source": [
    "%python\n",
    "html = \"\"\"<h1 style=\"color:Black;text-align:center;font-family:Ariel\">Report on Dominant Airlines</h1>\"\"\"\n",
    "displayHTML(html)"
   ]
  },
  {
   "cell_type": "code",
   "execution_count": 0,
   "metadata": {
    "application/vnd.databricks.v1+cell": {
     "cellMetadata": {
      "byteLimit": 2048000,
      "rowLimit": 10000
     },
     "inputWidgets": {},
     "nuid": "4f01f548-6538-4075-ab2e-03bdfd8e8eb0",
     "showTitle": false,
     "title": ""
    }
   },
   "outputs": [],
   "source": [
    "CREATE OR REPLACE TEMP VIEW v_dominant_airlines\n",
    "AS\n",
    "SELECT airline_name,\n",
    "        COUNT(1) AS total_flights,\n",
    "        SUM(distance) AS total_distance,\n",
    "        AVG(distance) AS avg_distance,\n",
    "        RANK() OVER(ORDER BY AVG(distance) DESC) AS airline_rank\n",
    "FROM dev_air_travel_present.search_flight\n",
    "GROUP BY airline_name\n",
    "HAVING COUNT(1) >= 50\n",
    "ORDER BY avg_distance DESC;"
   ]
  },
  {
   "cell_type": "code",
   "execution_count": 0,
   "metadata": {
    "application/vnd.databricks.v1+cell": {
     "cellMetadata": {
      "byteLimit": 2048000,
      "rowLimit": 10000
     },
     "inputWidgets": {},
     "nuid": "5c032fbf-d023-4968-b423-ff84ffd78208",
     "showTitle": false,
     "title": ""
    }
   },
   "outputs": [],
   "source": [
    "SELECT year,\n",
    "        airline_name,\n",
    "        COUNT(1) AS total_flights,\n",
    "        SUM(distance) AS total_distance,\n",
    "        AVG(distance) AS avg_distance\n",
    "FROM dev_air_travel_present.search_flight\n",
    "WHERE airline_name IN (SELECT airline_name FROM v_dominant_airlines WHERE airline_rank <= 5)\n",
    "GROUP BY year, airline_name\n",
    "ORDER BY year, avg_distance DESC;"
   ]
  },
  {
   "cell_type": "code",
   "execution_count": 0,
   "metadata": {
    "application/vnd.databricks.v1+cell": {
     "cellMetadata": {},
     "inputWidgets": {},
     "nuid": "ad709749-d4a8-4928-8bb3-7965786ba834",
     "showTitle": false,
     "title": ""
    }
   },
   "outputs": [],
   "source": [
    "%python\n",
    "## Create Dashboard"
   ]
  }
 ],
 "metadata": {
  "application/vnd.databricks.v1+notebook": {
   "dashboards": [
    {
     "elements": [
      {
       "dashboardResultIndex": 0,
       "elementNUID": "0a19f921-8028-4dff-8f83-86443b88169b",
       "elementType": "command",
       "guid": "06dd474e-d009-45fd-8b2c-82f314ee550f",
       "options": null,
       "position": {
        "height": 2,
        "width": 24,
        "x": 0,
        "y": 0,
        "z": null
       },
       "resultIndex": null
      },
      {
       "dashboardResultIndex": null,
       "elementNUID": "ad6179c0-8eb9-41ac-a943-213bcd2c6d87",
       "elementType": "command",
       "guid": "8770d08a-4ad7-47ed-909e-7dbaeac9dbc5",
       "options": null,
       "position": {
        "height": 10,
        "width": 12,
        "x": 0,
        "y": 2,
        "z": null
       },
       "resultIndex": null
      },
      {
       "dashboardResultIndex": null,
       "elementNUID": "d0290571-d3fd-4aad-a7cf-84704f21d2d4",
       "elementType": "command",
       "guid": "eec9debc-9033-4b5b-be89-8d9589d36b54",
       "options": null,
       "position": {
        "height": 10,
        "width": 12,
        "x": 12,
        "y": 2,
        "z": null
       },
       "resultIndex": null
      }
     ],
     "globalVars": {},
     "guid": "dc75f352-5e6f-486c-a114-fec982f3d509",
     "layoutOption": {
      "grid": true,
      "stack": true
     },
     "nuid": "1868c8f5-6bd0-4536-8261-0e284123373c",
     "origId": 3790368410462265,
     "title": "Dominant Airlines",
     "version": "DashboardViewV1",
     "width": 1024
    }
   ],
   "language": "sql",
   "notebookMetadata": {
    "pythonIndentUnit": 4
   },
   "notebookName": "3.viz_dominant_airlines",
   "notebookOrigID": 3790368410462223,
   "widgets": {}
  },
  "kernelspec": {
   "display_name": "airlines",
   "language": "python",
   "name": "airlines"
  },
  "language_info": {
   "codemirror_mode": {
    "name": "ipython",
    "version": 3
   },
   "file_extension": ".py",
   "mimetype": "text/x-python",
   "name": "python",
   "nbconvert_exporter": "python",
   "pygments_lexer": "ipython3",
   "version": "3.9.16"
  }
 },
 "nbformat": 4,
 "nbformat_minor": 0
}
