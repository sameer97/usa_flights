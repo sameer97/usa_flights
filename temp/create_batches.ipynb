{
 "cells": [
  {
   "cell_type": "markdown",
   "id": "2c99c1dd-709a-4e58-92ea-d16ce2a2f535",
   "metadata": {},
   "source": [
    "#### Create batches of raw data"
   ]
  }
 ],
 "metadata": {
  "kernelspec": {
   "display_name": "airlines",
   "language": "python",
   "name": "airlines"
  },
  "language_info": {
   "codemirror_mode": {
    "name": "ipython",
    "version": 3
   },
   "file_extension": ".py",
   "mimetype": "text/x-python",
   "name": "python",
   "nbconvert_exporter": "python",
   "pygments_lexer": "ipython3",
   "version": "3.9.16"
  }
 },
 "nbformat": 4,
 "nbformat_minor": 5
}
