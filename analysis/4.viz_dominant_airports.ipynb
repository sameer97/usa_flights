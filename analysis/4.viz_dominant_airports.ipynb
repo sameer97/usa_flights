{
 "cells": [
  {
   "cell_type": "code",
   "execution_count": null,
   "metadata": {
    "application/vnd.databricks.v1+cell": {
     "cellMetadata": {
      "byteLimit": 2048000,
      "rowLimit": 10000
     },
     "inputWidgets": {},
     "nuid": "b682ce41-c107-463d-b8c8-23dd5d878a0f",
     "showTitle": false,
     "title": ""
    }
   },
   "outputs": [],
   "source": [
    "%python\n",
    "html = \"\"\"<h1 style=\"color:Black;text-align:center;font-family:Ariel\">Report on Dominant Airports</h1>\"\"\"\n",
    "displayHTML(html)"
   ]
  },
  {
   "cell_type": "code",
   "execution_count": null,
   "metadata": {
    "application/vnd.databricks.v1+cell": {
     "cellMetadata": {
      "byteLimit": 2048000,
      "rowLimit": 10000
     },
     "inputWidgets": {},
     "nuid": "9b0de564-748e-4c1e-b89f-6d01a28f1cdb",
     "showTitle": false,
     "title": ""
    }
   },
   "outputs": [],
   "source": [
    "CREATE OR REPLACE TEMP VIEW v_dominant_airports\n",
    "AS\n",
    "SELECT origin_df.origin_airport AS airport,\n",
    "        (origin_count+dest_count) AS count,\n",
    "        RANK() OVER(ORDER BY (origin_count+dest_count) DESC) AS airport_rank\n",
    "FROM ((SELECT origin_airport, COUNT(1) AS origin_count \n",
    "      FROM dev_air_travel_present.search_flight \n",
    "      GROUP BY origin_airport) AS origin_df\n",
    "      INNER JOIN\n",
    "      (SELECT dest_airport, COUNT(1) AS dest_count \n",
    "      FROM dev_air_travel_present.search_flight \n",
    "      GROUP BY dest_airport) AS dest_df\n",
    "      ON origin_df.origin_airport = dest_df.dest_airport\n",
    "     )\n",
    "WHERE (origin_count+dest_count) >= 50\n",
    "ORDER BY count DESC;"
   ]
  },
  {
   "cell_type": "code",
   "execution_count": null,
   "metadata": {
    "application/vnd.databricks.v1+cell": {
     "cellMetadata": {
      "byteLimit": 2048000,
      "rowLimit": 10000
     },
     "inputWidgets": {},
     "nuid": "83363e3b-f336-4bc0-88d9-da9898787484",
     "showTitle": false,
     "title": ""
    }
   },
   "outputs": [],
   "source": [
    "SELECT origin_df.year,\n",
    "        origin_df.origin_airport AS airport,\n",
    "        (origin_count+dest_count) AS count\n",
    "FROM ((SELECT year, origin_airport, COUNT(1) AS origin_count \n",
    "      FROM dev_air_travel_present.search_flight \n",
    "      GROUP BY year, origin_airport) AS origin_df\n",
    "      INNER JOIN\n",
    "      (SELECT year, dest_airport, COUNT(1) AS dest_count \n",
    "      FROM dev_air_travel_present.search_flight \n",
    "      GROUP BY year, dest_airport) AS dest_df\n",
    "      ON origin_df.origin_airport = dest_df.dest_airport AND origin_df.year = dest_df.year\n",
    "     )\n",
    "WHERE origin_df.origin_airport IN (SELECT airport FROM v_dominant_airports WHERE airport_rank <= 5)\n",
    "ORDER BY year, count DESC;"
   ]
  },
  {
   "cell_type": "code",
   "execution_count": null,
   "metadata": {
    "application/vnd.databricks.v1+cell": {
     "cellMetadata": {},
     "inputWidgets": {},
     "nuid": "fa10e793-d294-456c-89bc-696ac8ed66cc",
     "showTitle": false,
     "title": ""
    }
   },
   "outputs": [],
   "source": [
    "%python\n",
    "## Create Dashboard"
   ]
  }
 ],
 "metadata": {
  "application/vnd.databricks.v1+notebook": {
   "dashboards": [
    {
     "elements": [
      {
       "dashboardResultIndex": 0,
       "elementNUID": "b682ce41-c107-463d-b8c8-23dd5d878a0f",
       "elementType": "command",
       "guid": "4685e4a2-c1ff-465c-ae75-64a7d6f91ec7",
       "options": null,
       "position": {
        "height": 2,
        "width": 24,
        "x": 0,
        "y": 0,
        "z": null
       },
       "resultIndex": null
      },
      {
       "dashboardResultIndex": null,
       "elementNUID": "eabd6d00-a708-4f29-a771-dd238180433f",
       "elementType": "command",
       "guid": "522ff522-8789-456c-8e4f-b0fd7838f71a",
       "options": null,
       "position": {
        "height": 11,
        "width": 12,
        "x": 12,
        "y": 2,
        "z": null
       },
       "resultIndex": null
      },
      {
       "dashboardResultIndex": null,
       "elementNUID": "6a8a3501-b148-446e-b34f-52c4269f14d3",
       "elementType": "command",
       "guid": "e99f845d-e5e0-4928-a8f7-4f30e32c14a5",
       "options": null,
       "position": {
        "height": 11,
        "width": 12,
        "x": 0,
        "y": 2,
        "z": null
       },
       "resultIndex": null
      }
     ],
     "globalVars": {},
     "guid": "d29222f5-d0b0-4b48-a593-3b536367d887",
     "layoutOption": {
      "grid": true,
      "stack": true
     },
     "nuid": "f397d15d-b2f8-40c1-8be0-2907aac97728",
     "origId": 2902784497057786,
     "title": "Dominant Airports",
     "version": "DashboardViewV1",
     "width": 1024
    }
   ],
   "language": "sql",
   "notebookMetadata": {
    "pythonIndentUnit": 4
   },
   "notebookName": "4.viz_dominant_airports",
   "notebookOrigID": 3790368410462221,
   "widgets": {}
  },
  "kernelspec": {
   "display_name": "airlines",
   "language": "python",
   "name": "airlines"
  },
  "language_info": {
   "codemirror_mode": {
    "name": "ipython",
    "version": 3
   },
   "file_extension": ".py",
   "mimetype": "text/x-python",
   "name": "python",
   "nbconvert_exporter": "python",
   "pygments_lexer": "ipython3",
   "version": "3.9.16"
  }
 },
 "nbformat": 4,
 "nbformat_minor": 0
}
