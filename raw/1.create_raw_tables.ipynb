{
 "cells": [
  {
   "cell_type": "markdown",
   "metadata": {
    "application/vnd.databricks.v1+cell": {
     "cellMetadata": {
      "byteLimit": 2048000,
      "rowLimit": 10000
     },
     "inputWidgets": {},
     "nuid": "486267e5-8609-4f57-b17e-b960287724d9",
     "showTitle": false,
     "title": ""
    }
   },
   "source": [
    "#### Create flights table"
   ]
  },
  {
   "cell_type": "code",
   "execution_count": 0,
   "metadata": {
    "application/vnd.databricks.v1+cell": {
     "cellMetadata": {
      "byteLimit": 2048000,
      "rowLimit": 10000
     },
     "inputWidgets": {},
     "nuid": "84ebe3dd-9af1-4449-9001-3de93b363d79",
     "showTitle": false,
     "title": ""
    }
   },
   "outputs": [],
   "source": [
    "DROP DATABASE dev_air_travel_raw;"
   ]
  },
  {
   "cell_type": "code",
   "execution_count": 0,
   "metadata": {
    "application/vnd.databricks.v1+cell": {
     "cellMetadata": {
      "byteLimit": 2048000,
      "rowLimit": 10000
     },
     "inputWidgets": {},
     "nuid": "321c25f7-0490-4555-a46e-e0dd7d31f65b",
     "showTitle": false,
     "title": ""
    }
   },
   "outputs": [],
   "source": [
    "CREATE DATABASE IF NOT EXISTS dev_air_travel_raw;"
   ]
  },
  {
   "cell_type": "code",
   "execution_count": 0,
   "metadata": {
    "application/vnd.databricks.v1+cell": {
     "cellMetadata": {
      "byteLimit": 2048000,
      "rowLimit": 10000
     },
     "inputWidgets": {},
     "nuid": "ded080d9-8b4c-40dc-815a-724f7137cec1",
     "showTitle": false,
     "title": ""
    }
   },
   "outputs": [],
   "source": [
    "DROP TABLE IF EXISTS dev_air_travel_raw.flights;\n",
    "CREATE TABLE IF NOT EXISTS dev_air_travel_raw.flights(\n",
    "    ActualElapsedTime INT,\n",
    "    AirTime INT,\n",
    "    ArrDelay INT,\n",
    "    ArrTime INT,\n",
    "    CRSArrTime INT,\n",
    "    CRSDepTime INT,\n",
    "    CRSElapsedTime INT,\n",
    "    CancellationCode STRING,\n",
    "    Cancelled BOOLEAN,\n",
    "    CarrierDelay INT,\n",
    "    DayOfWeek INT,\n",
    "    DayofMonth INT,\n",
    "    DepDelay INT,\n",
    "    DepTime INT,\n",
    "    Dest STRING,\n",
    "    Distance INT,\n",
    "    Diverted BOOLEAN,\n",
    "    FlightNum INT,\n",
    "    LateAircraftDelay INT,\n",
    "    Month INT,\n",
    "    NASDelay INT,\n",
    "    Origin STRING,\n",
    "    SecurityDelay INT,\n",
    "    TailNum STRING,\n",
    "    TaxiIn INT,\n",
    "    TaxiOut INT,\n",
    "    UniqueCarrier STRING,\n",
    "    WeatherDelay INT,\n",
    "    Year INT\n",
    ")\n",
    "USING csv\n",
    "OPTIONS (path \"/mnt/airlineblobstorage/airlinedata/flight_data.csv\", header true)"
   ]
  },
  {
   "cell_type": "markdown",
   "metadata": {
    "application/vnd.databricks.v1+cell": {
     "cellMetadata": {
      "byteLimit": 2048000,
      "rowLimit": 10000
     },
     "inputWidgets": {},
     "nuid": "0217fb3c-f55f-4afe-943c-c0c5a4c9b57a",
     "showTitle": false,
     "title": ""
    }
   },
   "source": [
    "#### Create airports table"
   ]
  },
  {
   "cell_type": "code",
   "execution_count": 0,
   "metadata": {
    "application/vnd.databricks.v1+cell": {
     "cellMetadata": {
      "byteLimit": 2048000,
      "rowLimit": 10000
     },
     "inputWidgets": {},
     "nuid": "6069d2df-50ca-4964-8096-59b0c918c3b0",
     "showTitle": false,
     "title": ""
    }
   },
   "outputs": [],
   "source": [
    "DROP TABLE IF EXISTS dev_air_travel_raw.airports;\n",
    "CREATE TABLE IF NOT EXISTS dev_air_travel_raw.airports(\n",
    "    ident STRING,\n",
    "    type STRING,\n",
    "    name STRING,\n",
    "    elevation_ft INT,\n",
    "    continent STRING,\n",
    "    iso_country STRING,\n",
    "    iso_region STRING,\n",
    "    municipality STRING,\n",
    "    gps_code STRING,\n",
    "    iata_code STRING,\n",
    "    local_code STRING,\n",
    "    coordinates STRING\n",
    ")\n",
    "USING json\n",
    "OPTIONS (path \"/mnt/airlineblobstorage/airlinedata/airport_data.json\", multiLine true)"
   ]
  },
  {
   "cell_type": "markdown",
   "metadata": {
    "application/vnd.databricks.v1+cell": {
     "cellMetadata": {
      "byteLimit": 2048000,
      "rowLimit": 10000
     },
     "inputWidgets": {},
     "nuid": "c6f47114-b828-4d04-bc30-27200fd77159",
     "showTitle": false,
     "title": ""
    },
    "tags": []
   },
   "source": [
    "#### Create airline table"
   ]
  },
  {
   "cell_type": "code",
   "execution_count": 0,
   "metadata": {
    "application/vnd.databricks.v1+cell": {
     "cellMetadata": {
      "byteLimit": 2048000,
      "rowLimit": 10000
     },
     "inputWidgets": {},
     "nuid": "9e8868e7-e5ee-465f-9040-5f7c09013add",
     "showTitle": false,
     "title": ""
    }
   },
   "outputs": [],
   "source": [
    "DROP TABLE IF EXISTS dev_air_travel_raw.airline;\n",
    "CREATE TABLE IF NOT EXISTS dev_air_travel_raw.airline(\n",
    "    id STRING,\n",
    "    name STRING,\n",
    "    alias STRING,\n",
    "    iata STRING,\n",
    "    icao STRING,\n",
    "    callsign STRING,\n",
    "    country STRING,\n",
    "    active STRING\n",
    ")\n",
    "USING json\n",
    "OPTIONS (path \"/mnt/airlineblobstorage/airlinedata/airline_data.json\", multiLine true)"
   ]
  }
 ],
 "metadata": {
  "application/vnd.databricks.v1+notebook": {
   "dashboards": [],
   "language": "sql",
   "notebookMetadata": {
    "pythonIndentUnit": 4
   },
   "notebookName": "1.create_raw_tables",
   "notebookOrigID": 2064520303337835,
   "widgets": {}
  },
  "kernelspec": {
   "display_name": "airlines",
   "language": "python",
   "name": "airlines"
  },
  "language_info": {
   "codemirror_mode": {
    "name": "ipython",
    "version": 3
   },
   "file_extension": ".py",
   "mimetype": "text/x-python",
   "name": "python",
   "nbconvert_exporter": "python",
   "pygments_lexer": "ipython3",
   "version": "3.9.16"
  }
 },
 "nbformat": 4,
 "nbformat_minor": 0
}
