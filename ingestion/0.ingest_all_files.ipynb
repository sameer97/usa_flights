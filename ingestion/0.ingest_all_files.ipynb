{
 "cells": [
  {
   "cell_type": "code",
   "execution_count": 0,
   "metadata": {
    "application/vnd.databricks.v1+cell": {
     "cellMetadata": {
      "byteLimit": 2048000,
      "rowLimit": 10000
     },
     "inputWidgets": {},
     "nuid": "c7c25266-8878-4f57-8f2a-f6a4d953d0eb",
     "showTitle": false,
     "title": ""
    }
   },
   "outputs": [],
   "source": [
    "file_date = \"2008-01-02\""
   ]
  },
  {
   "cell_type": "code",
   "execution_count": 0,
   "metadata": {
    "application/vnd.databricks.v1+cell": {
     "cellMetadata": {
      "byteLimit": 2048000,
      "rowLimit": 10000
     },
     "inputWidgets": {},
     "nuid": "617ef4e3-1452-49f0-a781-c5ce9d36f443",
     "showTitle": false,
     "title": ""
    }
   },
   "outputs": [],
   "source": [
    "flight_data_status = dbutils.notebook.run(\n",
    "    \"1.ingest_flights_file\",\n",
    "    0,\n",
    "    {\"data_source\": \"ASA Dataverse\", \"file_date\": file_date}\n",
    ")"
   ]
  },
  {
   "cell_type": "code",
   "execution_count": 0,
   "metadata": {
    "application/vnd.databricks.v1+cell": {
     "cellMetadata": {
      "byteLimit": 2048000,
      "rowLimit": 10000
     },
     "inputWidgets": {},
     "nuid": "442d8932-b93a-4263-ab47-a1a3eef63d12",
     "showTitle": false,
     "title": ""
    }
   },
   "outputs": [],
   "source": [
    "if flight_data_status == \"Success\":\n",
    "    print(\"Flight Data Updated\")\n",
    "    airport_data_status = dbutils.notebook.run(\n",
    "        \"2.inget_airports_file\",\n",
    "        0,\n",
    "        {\"data_source\": \"GitHub\", \"file_date\": file_date}\n",
    "    )\n",
    "else:\n",
    "    print(\"Flight Data Update Failed\")"
   ]
  },
  {
   "cell_type": "code",
   "execution_count": 0,
   "metadata": {
    "application/vnd.databricks.v1+cell": {
     "cellMetadata": {
      "byteLimit": 2048000,
      "rowLimit": 10000
     },
     "inputWidgets": {},
     "nuid": "80d1e6fa-35b4-4587-b04d-ac78d695c6a8",
     "showTitle": false,
     "title": ""
    }
   },
   "outputs": [],
   "source": [
    "if airport_data_status == \"Success\":\n",
    "    print(\"Airport Data Updated\")\n",
    "    airline_data_status = dbutils.notebook.run(\n",
    "        \"3.ingest_airlines_file\",\n",
    "        0,\n",
    "        {\"data_source\": \"Data Hub\", \"file_date\": file_date}\n",
    "    )\n",
    "else:\n",
    "    print(\"Airport Data Update Failed\")"
   ]
  },
  {
   "cell_type": "code",
   "execution_count": 0,
   "metadata": {
    "application/vnd.databricks.v1+cell": {
     "cellMetadata": {
      "byteLimit": 2048000,
      "rowLimit": 10000
     },
     "inputWidgets": {},
     "nuid": "744d442f-278e-4a1d-8164-63daad7dc220",
     "showTitle": false,
     "title": ""
    }
   },
   "outputs": [],
   "source": [
    "if airline_data_status == \"Success\":\n",
    "    print(\"Airline Data Updated\")\n",
    "else:\n",
    "    print(\"Airline Data Update Failed\")"
   ]
  }
 ],
 "metadata": {
  "application/vnd.databricks.v1+notebook": {
   "dashboards": [],
   "language": "python",
   "notebookMetadata": {
    "pythonIndentUnit": 4
   },
   "notebookName": "0.ingest_all_files",
   "notebookOrigID": 2717744799858033,
   "widgets": {}
  },
  "kernelspec": {
   "display_name": "airlines",
   "language": "python",
   "name": "airlines"
  },
  "language_info": {
   "codemirror_mode": {
    "name": "ipython",
    "version": 3
   },
   "file_extension": ".py",
   "mimetype": "text/x-python",
   "name": "python",
   "nbconvert_exporter": "python",
   "pygments_lexer": "ipython3",
   "version": "3.9.16"
  }
 },
 "nbformat": 4,
 "nbformat_minor": 0
}
