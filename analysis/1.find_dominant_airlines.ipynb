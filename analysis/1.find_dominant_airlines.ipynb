{
 "cells": [
  {
   "cell_type": "code",
   "execution_count": 0,
   "metadata": {
    "application/vnd.databricks.v1+cell": {
     "cellMetadata": {},
     "inputWidgets": {},
     "nuid": "dd29295d-0bac-499b-b717-ba39b137dca7",
     "showTitle": false,
     "title": ""
    }
   },
   "outputs": [],
   "source": [
    "SELECT airline_name,\n",
    "        COUNT(1) AS total_flights,\n",
    "        SUM(distance) AS total_distance,\n",
    "        AVG(distance) AS avg_distance\n",
    "FROM dev_air_travel_present.search_flight\n",
    "GROUP BY airline_name\n",
    "HAVING COUNT(1) >= 50\n",
    "ORDER BY avg_distance DESC;"
   ]
  },
  {
   "cell_type": "code",
   "execution_count": 0,
   "metadata": {
    "application/vnd.databricks.v1+cell": {
     "cellMetadata": {},
     "inputWidgets": {},
     "nuid": "88dd9236-1ac3-4cd8-833d-1720cadcb3b3",
     "showTitle": false,
     "title": ""
    }
   },
   "outputs": [],
   "source": [
    "SELECT airline_name,\n",
    "        COUNT(1) AS total_flights,\n",
    "        SUM(distance) AS total_distance,\n",
    "        AVG(distance) AS avg_distance\n",
    "FROM dev_air_travel_present.search_flight\n",
    "WHERE year BETWEEN 1990 AND 2000\n",
    "GROUP BY airline_name\n",
    "HAVING COUNT(1) >= 50\n",
    "ORDER BY avg_distance DESC;"
   ]
  }
 ],
 "metadata": {
  "application/vnd.databricks.v1+notebook": {
   "dashboards": [],
   "language": "python",
   "notebookMetadata": {},
   "notebookName": "1.find_dominant_airlines",
   "notebookOrigID": 3790368410462249,
   "widgets": {}
  },
  "kernelspec": {
   "display_name": "airlines",
   "language": "python",
   "name": "airlines"
  },
  "language_info": {
   "codemirror_mode": {
    "name": "ipython",
    "version": 3
   },
   "file_extension": ".py",
   "mimetype": "text/x-python",
   "name": "python",
   "nbconvert_exporter": "python",
   "pygments_lexer": "ipython3",
   "version": "3.9.16"
  }
 },
 "nbformat": 4,
 "nbformat_minor": 0
}
