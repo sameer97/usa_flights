{
 "cells": [
  {
   "cell_type": "code",
   "execution_count": 0,
   "metadata": {
    "application/vnd.databricks.v1+cell": {
     "cellMetadata": {},
     "inputWidgets": {},
     "nuid": "9b0de564-748e-4c1e-b89f-6d01a28f1cdb",
     "showTitle": false,
     "title": ""
    }
   },
   "outputs": [],
   "source": [
    "CREATE OR REPLACE TEMP VIEW v_dominant_airports\n",
    "AS\n",
    "SELECT origin AS airport,\n",
    "        (origin_count+dest_count) AS count,\n",
    "        RANK() OVER(ORDER BY (origin_count+dest_count) DESC) AS airport_rank\n",
    "FROM ((SELECT origin, COUNT(1) AS origin_count \n",
    "      FROM dev_air_travel_present.search_flight \n",
    "      GROUP BY origin) AS origin_df\n",
    "      INNER JOIN\n",
    "      (SELECT destination, COUNT(1) AS dest_count \n",
    "      FROM dev_air_travel_present.search_flight \n",
    "      GROUP BY destination) AS dest_df\n",
    "      ON origin_df.origin = dest_df.destination\n",
    "     )\n",
    "WHERE count >= 50\n",
    "ORDER BY count DESC;"
   ]
  },
  {
   "cell_type": "code",
   "execution_count": 0,
   "metadata": {
    "application/vnd.databricks.v1+cell": {
     "cellMetadata": {},
     "inputWidgets": {},
     "nuid": "83363e3b-f336-4bc0-88d9-da9898787484",
     "showTitle": false,
     "title": ""
    }
   },
   "outputs": [],
   "source": [
    "SELECT year,\n",
    "        origin AS airport,\n",
    "        (origin_count+dest_count) AS count\n",
    "FROM ((SELECT year, origin, COUNT(1) AS origin_count \n",
    "      FROM dev_air_travel_present.search_flight \n",
    "      GROUP BY year, origin) AS origin_df\n",
    "      INNER JOIN\n",
    "      (SELECT year, destination, COUNT(1) AS dest_count \n",
    "      FROM dev_air_travel_present.search_flight \n",
    "      GROUP BY year, destination) AS dest_df\n",
    "      ON origin_df.origin = dest_df.destination AND origin_df.year = dest_df.year\n",
    "     )\n",
    "WHERE airport IN (SELECT airport FROM v_dominant_airports WHERE airport_rank <= 10)\n",
    "ORDER BY year, count DESC;"
   ]
  },
  {
   "cell_type": "code",
   "execution_count": 0,
   "metadata": {
    "application/vnd.databricks.v1+cell": {
     "cellMetadata": {},
     "inputWidgets": {},
     "nuid": "fa10e793-d294-456c-89bc-696ac8ed66cc",
     "showTitle": false,
     "title": ""
    }
   },
   "outputs": [],
   "source": [
    "%python\n",
    "## ADD Line Chart"
   ]
  },
  {
   "cell_type": "code",
   "execution_count": 0,
   "metadata": {
    "application/vnd.databricks.v1+cell": {
     "cellMetadata": {},
     "inputWidgets": {},
     "nuid": "d26b0c02-500c-4e66-b574-140ee2ff505c",
     "showTitle": false,
     "title": ""
    }
   },
   "outputs": [],
   "source": [
    "%python\n",
    "## ADD Bar Chart"
   ]
  },
  {
   "cell_type": "code",
   "execution_count": 0,
   "metadata": {
    "application/vnd.databricks.v1+cell": {
     "cellMetadata": {},
     "inputWidgets": {},
     "nuid": "fa1da9c2-5982-4827-9c1d-fdd3f9625ab1",
     "showTitle": false,
     "title": ""
    }
   },
   "outputs": [],
   "source": [
    "%python\n",
    "## ADD Area Chart"
   ]
  },
  {
   "cell_type": "code",
   "execution_count": 0,
   "metadata": {
    "application/vnd.databricks.v1+cell": {
     "cellMetadata": {},
     "inputWidgets": {},
     "nuid": "9bae1334-9c77-4447-bd03-b2a7d37c9bf7",
     "showTitle": false,
     "title": ""
    }
   },
   "outputs": [],
   "source": [
    "%python\n",
    "## Create Dashboard"
   ]
  }
 ],
 "metadata": {
  "application/vnd.databricks.v1+notebook": {
   "dashboards": [],
   "language": "sql",
   "notebookMetadata": {
    "pythonIndentUnit": 4
   },
   "notebookName": "4.viz_dominant_airports",
   "notebookOrigID": 807573559669421,
   "widgets": {}
  },
  "kernelspec": {
   "display_name": "airlines",
   "language": "python",
   "name": "airlines"
  },
  "language_info": {
   "codemirror_mode": {
    "name": "ipython",
    "version": 3
   },
   "file_extension": ".py",
   "mimetype": "text/x-python",
   "name": "python",
   "nbconvert_exporter": "python",
   "pygments_lexer": "ipython3",
   "version": "3.9.16"
  }
 },
 "nbformat": 4,
 "nbformat_minor": 0
}
