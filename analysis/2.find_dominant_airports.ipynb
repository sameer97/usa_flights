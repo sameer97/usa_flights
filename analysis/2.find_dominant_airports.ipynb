{
 "cells": [
  {
   "cell_type": "code",
   "execution_count": 0,
   "metadata": {
    "application/vnd.databricks.v1+cell": {
     "cellMetadata": {
      "byteLimit": 2048000,
      "rowLimit": 10000
     },
     "inputWidgets": {},
     "nuid": "5ad3f58a-17d6-4d60-9558-812697735663",
     "showTitle": false,
     "title": ""
    },
    "tags": []
   },
   "outputs": [],
   "source": [
    "SELECT origin_airport AS airport, (origin_count+dest_count) AS count\n",
    "FROM ((SELECT origin_airport, COUNT(1) AS origin_count \n",
    "      FROM dev_air_travel_present.search_flight \n",
    "      GROUP BY origin_airport) AS origin_df\n",
    "      INNER JOIN\n",
    "      (SELECT dest_airport, COUNT(1) AS dest_count \n",
    "      FROM dev_air_travel_present.search_flight \n",
    "      GROUP BY dest_airport) AS dest_df\n",
    "      ON origin_df.origin_airport = dest_df.dest_airport\n",
    "     )\n",
    "WHERE (origin_count+dest_count) >= 50\n",
    "ORDER BY count DESC;"
   ]
  }
 ],
 "metadata": {
  "application/vnd.databricks.v1+notebook": {
   "dashboards": [],
   "language": "sql",
   "notebookMetadata": {
    "pythonIndentUnit": 4
   },
   "notebookName": "2.find_dominant_airports",
   "notebookOrigID": 807573559669420,
   "widgets": {}
  },
  "kernelspec": {
   "display_name": "airlines",
   "language": "python",
   "name": "airlines"
  },
  "language_info": {
   "codemirror_mode": {
    "name": "ipython",
    "version": 3
   },
   "file_extension": ".py",
   "mimetype": "text/x-python",
   "name": "python",
   "nbconvert_exporter": "python",
   "pygments_lexer": "ipython3",
   "version": "3.9.16"
  }
 },
 "nbformat": 4,
 "nbformat_minor": 0
}
