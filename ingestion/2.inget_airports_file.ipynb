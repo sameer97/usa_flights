{
 "cells": [
  {
   "cell_type": "markdown",
   "metadata": {
    "application/vnd.databricks.v1+cell": {
     "cellMetadata": {},
     "inputWidgets": {},
     "nuid": "74fd427d-4d38-4d60-a88f-e3db15d82192",
     "showTitle": false,
     "title": ""
    }
   },
   "source": [
    "## Ingest airport_data.json file"
   ]
  },
  {
   "cell_type": "code",
   "execution_count": 0,
   "metadata": {
    "application/vnd.databricks.v1+cell": {
     "cellMetadata": {
      "byteLimit": 2048000,
      "rowLimit": 10000
     },
     "inputWidgets": {},
     "nuid": "d4ca3f20-5332-4515-80b7-353c037094b3",
     "showTitle": false,
     "title": ""
    }
   },
   "outputs": [],
   "source": [
    "dbutils.widgets.text(\"data_source\", \"\")\n",
    "data_source = dbutils.widgets.get(\"data_source\")"
   ]
  },
  {
   "cell_type": "code",
   "execution_count": 0,
   "metadata": {
    "application/vnd.databricks.v1+cell": {
     "cellMetadata": {},
     "inputWidgets": {},
     "nuid": "1fd735ff-6669-4b63-9da4-7102cd168777",
     "showTitle": false,
     "title": ""
    }
   },
   "outputs": [],
   "source": [
    "dbutils.widgets.text(\"file_date\", \"2000-01-01\")\n",
    "file_date = dbutils.widgets.get(\"file_date\")"
   ]
  },
  {
   "cell_type": "code",
   "execution_count": 0,
   "metadata": {
    "application/vnd.databricks.v1+cell": {
     "cellMetadata": {
      "byteLimit": 2048000,
      "rowLimit": 10000
     },
     "inputWidgets": {},
     "nuid": "32b805f2-4c84-48eb-98e7-559d02c9c80a",
     "showTitle": false,
     "title": ""
    }
   },
   "outputs": [],
   "source": [
    "%run \"../includes/configurations\""
   ]
  },
  {
   "cell_type": "markdown",
   "metadata": {
    "application/vnd.databricks.v1+cell": {
     "cellMetadata": {},
     "inputWidgets": {},
     "nuid": "7598f9f8-9640-4df0-b22d-1e2376d786e1",
     "showTitle": false,
     "title": ""
    },
    "tags": []
   },
   "source": [
    "##### Imports"
   ]
  },
  {
   "cell_type": "code",
   "execution_count": 0,
   "metadata": {
    "application/vnd.databricks.v1+cell": {
     "cellMetadata": {
      "byteLimit": 2048000,
      "rowLimit": 10000
     },
     "inputWidgets": {},
     "nuid": "9c386684-ad5e-4db4-8457-1943ca2dfc1e",
     "showTitle": false,
     "title": ""
    }
   },
   "outputs": [],
   "source": [
    "from pyspark.sql.functions import (\n",
    "    split,\n",
    "    current_timestamp,\n",
    "    trim,\n",
    "    col,\n",
    "    lit\n",
    ")"
   ]
  },
  {
   "cell_type": "markdown",
   "metadata": {
    "application/vnd.databricks.v1+cell": {
     "cellMetadata": {},
     "inputWidgets": {},
     "nuid": "0dd52704-d904-46e8-adaa-5223ee58c455",
     "showTitle": false,
     "title": ""
    }
   },
   "source": [
    "##### Step 1 - Read the JSON file using the spark dataframe reader"
   ]
  },
  {
   "cell_type": "code",
   "execution_count": 0,
   "metadata": {
    "application/vnd.databricks.v1+cell": {
     "cellMetadata": {
      "byteLimit": 2048000,
      "rowLimit": 10000
     },
     "inputWidgets": {},
     "nuid": "5c9aa03b-6774-4f0e-b841-35fc0241f679",
     "showTitle": false,
     "title": ""
    }
   },
   "outputs": [],
   "source": [
    "# DDL based schema defination\n",
    "airports_schema = \"ident STRING, type STRING, name STRING, elevation_ft INT, continent STRING, iso_country STRING, iso_region STRING, municipality STRING, gps_code STRING, iata_code STRING, local_code STRING, coordinates STRING\""
   ]
  },
  {
   "cell_type": "markdown",
   "metadata": {
    "application/vnd.databricks.v1+cell": {
     "cellMetadata": {},
     "inputWidgets": {},
     "nuid": "0cc9ffc6-5a5d-4b46-8627-24358fa36b0e",
     "showTitle": false,
     "title": ""
    }
   },
   "source": [
    "**Note:**\n",
    "By default spark does not deal with multi-line JSON format. We need to define it in options"
   ]
  },
  {
   "cell_type": "code",
   "execution_count": 0,
   "metadata": {
    "application/vnd.databricks.v1+cell": {
     "cellMetadata": {
      "byteLimit": 2048000,
      "rowLimit": 10000
     },
     "inputWidgets": {},
     "nuid": "410f5ea0-1a5d-4dfc-bd7c-a859e6ed480a",
     "showTitle": false,
     "title": ""
    }
   },
   "outputs": [],
   "source": [
    "airports_df = (spark.read.\n",
    "               schema(airports_schema).\n",
    "               option(\"multiLine\", True).\n",
    "               json(f\"{raw_folder_path}/{file_date}/airport_data.json\")\n",
    "              )"
   ]
  },
  {
   "cell_type": "code",
   "execution_count": 0,
   "metadata": {
    "application/vnd.databricks.v1+cell": {
     "cellMetadata": {
      "byteLimit": 2048000,
      "rowLimit": 10000
     },
     "inputWidgets": {},
     "nuid": "72e5b038-7703-43f7-a13f-c663b0976f99",
     "showTitle": false,
     "title": ""
    }
   },
   "outputs": [],
   "source": [
    "airports_df.printSchema()"
   ]
  },
  {
   "cell_type": "code",
   "execution_count": 0,
   "metadata": {
    "application/vnd.databricks.v1+cell": {
     "cellMetadata": {
      "byteLimit": 2048000,
      "rowLimit": 10000
     },
     "inputWidgets": {},
     "nuid": "5d539a35-96da-404d-9fb2-2ece5c1be785",
     "showTitle": false,
     "title": ""
    }
   },
   "outputs": [],
   "source": [
    "display(airports_df)"
   ]
  },
  {
   "cell_type": "markdown",
   "metadata": {
    "application/vnd.databricks.v1+cell": {
     "cellMetadata": {},
     "inputWidgets": {},
     "nuid": "460d83a2-1a37-4d60-a305-079fbd6c3061",
     "showTitle": false,
     "title": ""
    }
   },
   "source": [
    "##### Step 2 - Select the required columns"
   ]
  },
  {
   "cell_type": "code",
   "execution_count": 0,
   "metadata": {
    "application/vnd.databricks.v1+cell": {
     "cellMetadata": {
      "byteLimit": 2048000,
      "rowLimit": 10000
     },
     "inputWidgets": {},
     "nuid": "fbd88c54-3b1c-4d25-a292-be7497312837",
     "showTitle": false,
     "title": ""
    }
   },
   "outputs": [],
   "source": [
    "req_cols = ['type','name','elevation_ft','continent','iso_country','iso_region','municipality','iata_code','coordinates']\n",
    "req_cols = [col(col_name) for col_name in req_cols]"
   ]
  },
  {
   "cell_type": "code",
   "execution_count": 0,
   "metadata": {
    "application/vnd.databricks.v1+cell": {
     "cellMetadata": {
      "byteLimit": 2048000,
      "rowLimit": 10000
     },
     "inputWidgets": {},
     "nuid": "777d437a-cda0-40bf-a026-8d8d5e69c972",
     "showTitle": false,
     "title": ""
    }
   },
   "outputs": [],
   "source": [
    "airports_selected_df = airports_df.select(req_cols)"
   ]
  },
  {
   "cell_type": "markdown",
   "metadata": {
    "application/vnd.databricks.v1+cell": {
     "cellMetadata": {},
     "inputWidgets": {},
     "nuid": "bd6e00e3-c05a-4d8f-85fa-0136ee2b430c",
     "showTitle": false,
     "title": ""
    }
   },
   "source": [
    "##### Step 3 - Rename the required columns"
   ]
  },
  {
   "cell_type": "code",
   "execution_count": 0,
   "metadata": {
    "application/vnd.databricks.v1+cell": {
     "cellMetadata": {
      "byteLimit": 2048000,
      "rowLimit": 10000
     },
     "inputWidgets": {},
     "nuid": "4f313f69-2ef0-4760-bd3d-25267b3950c3",
     "showTitle": false,
     "title": ""
    }
   },
   "outputs": [],
   "source": [
    "airports_renamed_df = (airports_selected_df.\n",
    "                       withColumnRenamed(\"type\",\"airport_type\").\n",
    "                       withColumnRenamed(\"name\",\"airport_name\")\n",
    "                      )"
   ]
  },
  {
   "cell_type": "markdown",
   "metadata": {
    "application/vnd.databricks.v1+cell": {
     "cellMetadata": {},
     "inputWidgets": {},
     "nuid": "a3a6c747-2a3f-4f1d-9b6c-25d014bf37a7",
     "showTitle": false,
     "title": ""
    },
    "tags": []
   },
   "source": [
    "##### Step 4 - Add new columns"
   ]
  },
  {
   "cell_type": "code",
   "execution_count": 0,
   "metadata": {
    "application/vnd.databricks.v1+cell": {
     "cellMetadata": {
      "byteLimit": 2048000,
      "rowLimit": 10000
     },
     "inputWidgets": {},
     "nuid": "634a8f0a-beaf-4e2e-9b31-266d1c6ddfc1",
     "showTitle": false,
     "title": ""
    }
   },
   "outputs": [],
   "source": [
    "split_coordinates = split(airports_renamed_df['coordinates'], ',')"
   ]
  },
  {
   "cell_type": "code",
   "execution_count": 0,
   "metadata": {
    "application/vnd.databricks.v1+cell": {
     "cellMetadata": {
      "byteLimit": 2048000,
      "rowLimit": 10000
     },
     "inputWidgets": {},
     "nuid": "32cd6c86-9573-4886-968c-5c05935918d4",
     "showTitle": false,
     "title": ""
    }
   },
   "outputs": [],
   "source": [
    "import os\n",
    "os.chdir(\"..\")\n",
    "from src import utils as ut"
   ]
  },
  {
   "cell_type": "code",
   "execution_count": 0,
   "metadata": {
    "application/vnd.databricks.v1+cell": {
     "cellMetadata": {
      "byteLimit": 2048000,
      "rowLimit": 10000
     },
     "inputWidgets": {},
     "nuid": "aaf14e5c-5e81-435a-a75b-af563557d9eb",
     "showTitle": false,
     "title": ""
    }
   },
   "outputs": [],
   "source": [
    "airports_new_cols_df = (airports_renamed_df.\n",
    "                        withColumn(\"latitude\", trim(split_coordinates.getItem(0))).\n",
    "                        withColumn(\"longitude\", trim(split_coordinates.getItem(1)))\n",
    "                       )\n",
    "airports_new_cols_df = ut.add_ingestion_date(airports_new_cols_df)\n",
    "airports_new_cols_df = airports_new_cols_df.drop(col(\"coordinates\"))"
   ]
  },
  {
   "cell_type": "code",
   "execution_count": 0,
   "metadata": {
    "application/vnd.databricks.v1+cell": {
     "cellMetadata": {
      "byteLimit": 2048000,
      "rowLimit": 10000
     },
     "inputWidgets": {},
     "nuid": "11d896b0-f26f-43f4-b712-a23f7e197f77",
     "showTitle": false,
     "title": ""
    }
   },
   "outputs": [],
   "source": [
    "airports_final_df = (airports_new_cols_df.\n",
    "                     withColumn(\"latitude\", col(\"latitude\").cast(\"double\")).\n",
    "                     withColumn(\"longitude\", col(\"longitude\").cast(\"double\")).\n",
    "                     withColumn(\"source\", lit(data_source)).\n",
    "                     withColumn(\"file_date\", lit(file_date))\n",
    "                    )"
   ]
  },
  {
   "cell_type": "code",
   "execution_count": 0,
   "metadata": {
    "application/vnd.databricks.v1+cell": {
     "cellMetadata": {
      "byteLimit": 2048000,
      "rowLimit": 10000
     },
     "inputWidgets": {},
     "nuid": "f4afdef0-8593-4e69-bc6f-8fc0639da598",
     "showTitle": false,
     "title": ""
    }
   },
   "outputs": [],
   "source": [
    "display(airports_final_df)"
   ]
  },
  {
   "cell_type": "markdown",
   "metadata": {
    "application/vnd.databricks.v1+cell": {
     "cellMetadata": {},
     "inputWidgets": {},
     "nuid": "8caeff05-8037-46f9-8afa-5be9314ae8f9",
     "showTitle": false,
     "title": ""
    }
   },
   "source": [
    "##### Step 5 - Write output to parquet file"
   ]
  },
  {
   "cell_type": "code",
   "execution_count": 0,
   "metadata": {
    "application/vnd.databricks.v1+cell": {
     "cellMetadata": {
      "byteLimit": 2048000,
      "rowLimit": 10000
     },
     "inputWidgets": {},
     "nuid": "99772b6e-cef8-4295-8637-0d8bb571c774",
     "showTitle": false,
     "title": ""
    }
   },
   "outputs": [],
   "source": [
    "# airports_final_df.write.mode(\"overwrite\").parquet(f\"{processed_folder_path}airports\")"
   ]
  },
  {
   "cell_type": "code",
   "execution_count": 0,
   "metadata": {
    "application/vnd.databricks.v1+cell": {
     "cellMetadata": {
      "byteLimit": 2048000,
      "rowLimit": 10000
     },
     "inputWidgets": {},
     "nuid": "30857886-8d7d-45b0-9c08-61d625e74c17",
     "showTitle": false,
     "title": ""
    }
   },
   "outputs": [],
   "source": [
    "(airports_final_df.\n",
    " write.mode(\"overwrite\").\n",
    " format(\"parquet\").\n",
    " saveAsTable(\"dev_air_travel_processed.airports\")\n",
    ")"
   ]
  },
  {
   "cell_type": "code",
   "execution_count": 0,
   "metadata": {
    "application/vnd.databricks.v1+cell": {
     "cellMetadata": {
      "byteLimit": 2048000,
      "rowLimit": 10000
     },
     "inputWidgets": {},
     "nuid": "02b0edad-4f03-4bed-934a-cbe885a40a2b",
     "showTitle": false,
     "title": ""
    }
   },
   "outputs": [],
   "source": [
    "dbutils.notebook.exit(\"Success\")"
   ]
  }
 ],
 "metadata": {
  "application/vnd.databricks.v1+notebook": {
   "dashboards": [],
   "language": "python",
   "notebookMetadata": {
    "pythonIndentUnit": 4
   },
   "notebookName": "2.inget_airports_file",
   "notebookOrigID": 3790368410462251,
   "widgets": {
    "data_source": {
     "currentValue": "DataHub",
     "nuid": "cdca2d46-c0ca-4c86-b75b-2ed2e686b051",
     "widgetInfo": {
      "widgetType": "text",
      "defaultValue": "",
      "label": null,
      "name": "data_source",
      "options": {
       "widgetType": "text",
       "validationRegex": null
      }
     }
    }
   }
  },
  "kernelspec": {
   "display_name": "airlines",
   "language": "python",
   "name": "airlines"
  },
  "language_info": {
   "codemirror_mode": {
    "name": "ipython",
    "version": 3
   },
   "file_extension": ".py",
   "mimetype": "text/x-python",
   "name": "python",
   "nbconvert_exporter": "python",
   "pygments_lexer": "ipython3",
   "version": "3.9.16"
  }
 },
 "nbformat": 4,
 "nbformat_minor": 0
}
