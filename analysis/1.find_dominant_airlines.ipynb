{
 "cells": [
  {
   "cell_type": "code",
   "execution_count": null,
   "id": "e0125ff8-79c6-4b9c-9cb0-9a36fbfde231",
   "metadata": {},
   "outputs": [],
   "source": [
    "SELECT airline_name,\n",
    "        COUNT(1) AS total_flights,\n",
    "        SUM(distance) AS total_distance,\n",
    "        AVG(distance) AS avg_distance\n",
    "FROM dev_air_travel_present.search_flight\n",
    "GROUP BY airline_name\n",
    "HAVING COUNT(1) >= 50\n",
    "ORDER BY avg_distance DESC;"
   ]
  },
  {
   "cell_type": "code",
   "execution_count": null,
   "id": "a9e63601-9305-4ccb-a93e-172f3e02430b",
   "metadata": {},
   "outputs": [],
   "source": [
    "SELECT airline_name,\n",
    "        COUNT(1) AS total_flights,\n",
    "        SUM(distance) AS total_distance,\n",
    "        AVG(distance) AS avg_distance\n",
    "FROM dev_air_travel_present.search_flight\n",
    "WHERE year BETWEEN 1990 AND 2000\n",
    "GROUP BY airline_name\n",
    "HAVING COUNT(1) >= 50\n",
    "ORDER BY avg_distance DESC;"
   ]
  }
 ],
 "metadata": {
  "kernelspec": {
   "display_name": "airlines",
   "language": "python",
   "name": "airlines"
  },
  "language_info": {
   "codemirror_mode": {
    "name": "ipython",
    "version": 3
   },
   "file_extension": ".py",
   "mimetype": "text/x-python",
   "name": "python",
   "nbconvert_exporter": "python",
   "pygments_lexer": "ipython3",
   "version": "3.9.16"
  }
 },
 "nbformat": 4,
 "nbformat_minor": 5
}
