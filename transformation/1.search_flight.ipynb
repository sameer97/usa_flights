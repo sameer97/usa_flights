{
 "cells": [
  {
   "cell_type": "markdown",
   "metadata": {
    "application/vnd.databricks.v1+cell": {
     "cellMetadata": {
      "byteLimit": 2048000,
      "rowLimit": 10000
     },
     "inputWidgets": {},
     "nuid": "6e89d3c8-5914-479a-b2be-09efea56b0d6",
     "showTitle": false,
     "title": ""
    }
   },
   "source": [
    "### Read all the data that's required"
   ]
  },
  {
   "cell_type": "code",
   "execution_count": 0,
   "metadata": {
    "application/vnd.databricks.v1+cell": {
     "cellMetadata": {
      "byteLimit": 2048000,
      "rowLimit": 10000
     },
     "inputWidgets": {},
     "nuid": "2245ab78-5422-4e5f-b70f-59fea8986434",
     "showTitle": false,
     "title": ""
    }
   },
   "outputs": [],
   "source": [
    "dbutils.widgets.text(\"file_date\", \"\")\n",
    "file_date = dbutils.widgets.get(\"file_date\")"
   ]
  },
  {
   "cell_type": "code",
   "execution_count": 0,
   "metadata": {
    "application/vnd.databricks.v1+cell": {
     "cellMetadata": {
      "byteLimit": 2048000,
      "rowLimit": 10000
     },
     "inputWidgets": {},
     "nuid": "164d564a-f589-4130-9c38-7a81ece28bd4",
     "showTitle": false,
     "title": ""
    }
   },
   "outputs": [],
   "source": [
    "%run \"../includes/configurations\""
   ]
  },
  {
   "cell_type": "code",
   "execution_count": 0,
   "metadata": {
    "application/vnd.databricks.v1+cell": {
     "cellMetadata": {
      "byteLimit": 2048000,
      "rowLimit": 10000
     },
     "inputWidgets": {},
     "nuid": "d968b9c5-c960-43d2-98e9-3e0c1b43df86",
     "showTitle": false,
     "title": ""
    }
   },
   "outputs": [],
   "source": [
    "%run \"../src/utils\""
   ]
  },
  {
   "cell_type": "code",
   "execution_count": 0,
   "metadata": {
    "application/vnd.databricks.v1+cell": {
     "cellMetadata": {
      "byteLimit": 2048000,
      "rowLimit": 10000
     },
     "inputWidgets": {},
     "nuid": "396272c8-93f3-44f7-8df8-fca3afd7af51",
     "showTitle": false,
     "title": ""
    }
   },
   "outputs": [],
   "source": [
    "from pyspark.sql.functions import col, current_timestamp"
   ]
  },
  {
   "cell_type": "code",
   "execution_count": 0,
   "metadata": {
    "application/vnd.databricks.v1+cell": {
     "cellMetadata": {
      "byteLimit": 2048000,
      "rowLimit": 10000
     },
     "inputWidgets": {},
     "nuid": "d30ec03b-356a-4934-8862-2bc04caf074e",
     "showTitle": false,
     "title": ""
    }
   },
   "outputs": [],
   "source": [
    "flights_df = (spark.read.parquet(f\"{processed_folder_path}flights\").\n",
    "              filter(col(\"cancelled\") == 0).\n",
    "              filter(f\"file_date = '{file_date}'\").\n",
    "              select(\n",
    "                  col(\"origin\"),\n",
    "                  col(\"destination\"),\n",
    "                  col(\"day_of_month\"),\n",
    "                  col(\"month\"),\n",
    "                  col(\"year\"),\n",
    "                  col(\"sched_dep_time\"),\n",
    "                  col(\"sched_arr_time\"),\n",
    "                  col(\"act_elapsed_time\"),\n",
    "                  col(\"flight_num\"),\n",
    "                  col(\"uniq_carrier_code\"),\n",
    "                  col(\"distance\")\n",
    "              )\n",
    "             )"
   ]
  },
  {
   "cell_type": "code",
   "execution_count": 0,
   "metadata": {
    "application/vnd.databricks.v1+cell": {
     "cellMetadata": {
      "byteLimit": 2048000,
      "rowLimit": 10000
     },
     "inputWidgets": {},
     "nuid": "1815c888-a763-4326-9d81-aaf263a29c59",
     "showTitle": false,
     "title": ""
    }
   },
   "outputs": [],
   "source": [
    "airports_df = (spark.read.parquet(f\"{processed_folder_path}airports\").\n",
    "               select(\n",
    "                   col(\"airport_name\"),\n",
    "                   col(\"iso_country\"),\n",
    "                   col(\"municipality\"),\n",
    "                   col(\"iata_code\")\n",
    "               ).\n",
    "               withColumnRenamed(\"iso_country\", \"airport_country\").\n",
    "               withColumnRenamed(\"iata_code\", \"airport_code\")\n",
    "              )"
   ]
  },
  {
   "cell_type": "code",
   "execution_count": 0,
   "metadata": {
    "application/vnd.databricks.v1+cell": {
     "cellMetadata": {
      "byteLimit": 2048000,
      "rowLimit": 10000
     },
     "inputWidgets": {},
     "nuid": "d54c4217-04da-4fd7-8780-a1d750deeefb",
     "showTitle": false,
     "title": ""
    }
   },
   "outputs": [],
   "source": [
    "airlines_df = (spark.read.parquet(f\"{processed_folder_path}airlines\").\n",
    "               select(col(\"airline_country\"),col(\"name\"),col(\"iata\")).\n",
    "               withColumnRenamed(\"name\",\"airline_name\").\n",
    "               withColumnRenamed(\"iata\",\"airline_code\")\n",
    "              )"
   ]
  },
  {
   "cell_type": "markdown",
   "metadata": {
    "application/vnd.databricks.v1+cell": {
     "cellMetadata": {
      "byteLimit": 2048000,
      "rowLimit": 10000
     },
     "inputWidgets": {},
     "nuid": "6aeea794-c404-4475-a6f8-3239b759b557",
     "showTitle": false,
     "title": ""
    }
   },
   "source": [
    "### Filter Airports and Airlines in US"
   ]
  },
  {
   "cell_type": "code",
   "execution_count": 0,
   "metadata": {
    "application/vnd.databricks.v1+cell": {
     "cellMetadata": {
      "byteLimit": 2048000,
      "rowLimit": 10000
     },
     "inputWidgets": {},
     "nuid": "54a3b4ac-3d20-4766-8ea3-5b5e5fa072cb",
     "showTitle": false,
     "title": ""
    }
   },
   "outputs": [],
   "source": [
    "airports_filtered_df = airports_df.filter(col(\"airport_country\") == \"US\")"
   ]
  },
  {
   "cell_type": "code",
   "execution_count": 0,
   "metadata": {
    "application/vnd.databricks.v1+cell": {
     "cellMetadata": {
      "byteLimit": 2048000,
      "rowLimit": 10000
     },
     "inputWidgets": {},
     "nuid": "dcefbca9-101a-47e5-a6f2-0086847db70b",
     "showTitle": false,
     "title": ""
    }
   },
   "outputs": [],
   "source": [
    "airlines_filtered_df = airlines_df.filter(col(\"airline_country\") == \"United States\")"
   ]
  },
  {
   "cell_type": "markdown",
   "metadata": {
    "application/vnd.databricks.v1+cell": {
     "cellMetadata": {
      "byteLimit": 2048000,
      "rowLimit": 10000
     },
     "inputWidgets": {},
     "nuid": "b0b1b4a4-356a-43e5-953c-0bd55b9f2bd8",
     "showTitle": false,
     "title": ""
    }
   },
   "source": [
    "### Join Airlines to Flights"
   ]
  },
  {
   "cell_type": "code",
   "execution_count": 0,
   "metadata": {
    "application/vnd.databricks.v1+cell": {
     "cellMetadata": {
      "byteLimit": 2048000,
      "rowLimit": 10000
     },
     "inputWidgets": {},
     "nuid": "8d04f059-8f24-401f-afaa-c4603137cb9c",
     "showTitle": false,
     "title": ""
    }
   },
   "outputs": [],
   "source": [
    "flight_airlines_df = flights_df.join(\n",
    "    airlines_filtered_df,\n",
    "    flights_df.uniq_carrier_code == airlines_filtered_df.airline_code,\n",
    "    \"left\"\n",
    ")"
   ]
  },
  {
   "cell_type": "markdown",
   "metadata": {
    "application/vnd.databricks.v1+cell": {
     "cellMetadata": {
      "byteLimit": 2048000,
      "rowLimit": 10000
     },
     "inputWidgets": {},
     "nuid": "3973b5d1-4ffe-43da-b0b9-c920efb5586e",
     "showTitle": false,
     "title": ""
    }
   },
   "source": [
    "### Join Airports to Flights and Airlines"
   ]
  },
  {
   "cell_type": "code",
   "execution_count": 0,
   "metadata": {
    "application/vnd.databricks.v1+cell": {
     "cellMetadata": {
      "byteLimit": 2048000,
      "rowLimit": 10000
     },
     "inputWidgets": {},
     "nuid": "b1d4bdc6-6a00-46de-a10a-61f1859f2ec3",
     "showTitle": false,
     "title": ""
    }
   },
   "outputs": [],
   "source": [
    "flight_origin_df = flight_airlines_df.join(\n",
    "    (airports_filtered_df.select(\n",
    "        col(\"airport_code\"),\n",
    "        col(\"airport_name\"),\n",
    "        col(\"municipality\")\n",
    "    ).\n",
    "    withColumnRenamed(\"airport_name\", \"origin_airport\").\n",
    "    withColumnRenamed(\"municipality\", \"origin_municipality\")\n",
    "    ),\n",
    "    flight_airlines_df.origin == airports_filtered_df.airport_code,\n",
    "    \"left\"\n",
    ")\n",
    "flight_origin_df = flight_origin_df.drop(\"airport_code\")"
   ]
  },
  {
   "cell_type": "code",
   "execution_count": 0,
   "metadata": {
    "application/vnd.databricks.v1+cell": {
     "cellMetadata": {
      "byteLimit": 2048000,
      "rowLimit": 10000
     },
     "inputWidgets": {},
     "nuid": "90edb32d-0b5f-40f3-bcfe-8b10923ddc97",
     "showTitle": false,
     "title": ""
    }
   },
   "outputs": [],
   "source": [
    "flight_final_df = flight_origin_df.join(\n",
    "    (airports_filtered_df.select(\n",
    "        col(\"airport_code\"),\n",
    "        col(\"airport_name\"),\n",
    "        col(\"municipality\")\n",
    "    ).\n",
    "    withColumnRenamed(\"airport_name\", \"dest_airport\").\n",
    "    withColumnRenamed(\"municipality\", \"dest_municipality\")\n",
    "    ),\n",
    "    flight_origin_df.destination == airports_filtered_df.airport_code,\n",
    "    \"left\"\n",
    ")\n",
    "flight_final_df = flight_final_df.drop(\"airport_code\")"
   ]
  },
  {
   "cell_type": "code",
   "execution_count": 0,
   "metadata": {
    "application/vnd.databricks.v1+cell": {
     "cellMetadata": {
      "byteLimit": 2048000,
      "rowLimit": 10000
     },
     "inputWidgets": {},
     "nuid": "c819fb1d-14d8-47bb-9f99-b5c1bfb3e789",
     "showTitle": false,
     "title": ""
    }
   },
   "outputs": [],
   "source": [
    "flight_final_df = flight_final_df.withColumn(\"created_date\", current_timestamp())"
   ]
  },
  {
   "cell_type": "code",
   "execution_count": 0,
   "metadata": {
    "application/vnd.databricks.v1+cell": {
     "cellMetadata": {
      "byteLimit": 2048000,
      "rowLimit": 10000
     },
     "inputWidgets": {},
     "nuid": "73805d75-38f0-4565-abb3-4ae6a00b2c66",
     "showTitle": false,
     "title": ""
    }
   },
   "outputs": [],
   "source": [
    "# flight_final_df.write.mode(\"overwrite\").partitionBy(\"year\").parquet(f\"{presentation_folder_path}search_flight\")"
   ]
  },
  {
   "cell_type": "code",
   "execution_count": 0,
   "metadata": {
    "application/vnd.databricks.v1+cell": {
     "cellMetadata": {
      "byteLimit": 2048000,
      "rowLimit": 10000
     },
     "inputWidgets": {},
     "nuid": "a474ec9e-4972-4fab-8f51-23fd59387221",
     "showTitle": false,
     "title": ""
    }
   },
   "outputs": [],
   "source": [
    "overwrite_partition(flight_final_df, \"dev_air_travel_present\", \"search_flight\", \"year\")"
   ]
  },
  {
   "cell_type": "code",
   "execution_count": 0,
   "metadata": {
    "application/vnd.databricks.v1+cell": {
     "cellMetadata": {
      "byteLimit": 2048000,
      "rowLimit": 10000
     },
     "inputWidgets": {},
     "nuid": "30029f85-9a25-427d-b388-3943c9ffdc6a",
     "showTitle": false,
     "title": ""
    }
   },
   "outputs": [],
   "source": [
    "# (flight_final_df.\n",
    "#  write.mode(\"overwrite\").\n",
    "#  partitionBy(\"year\").\n",
    "#  format(\"parquet\").\n",
    "#  saveAsTable(\"dev_air_travel_present.search_flight\")\n",
    "# )"
   ]
  },
  {
   "cell_type": "code",
   "execution_count": 0,
   "metadata": {
    "application/vnd.databricks.v1+cell": {
     "cellMetadata": {},
     "inputWidgets": {},
     "nuid": "ce115204-865b-4193-a790-0bde451da07b",
     "showTitle": false,
     "title": ""
    }
   },
   "outputs": [],
   "source": [
    "dbutils.notebook.exit(\"Success\")"
   ]
  }
 ],
 "metadata": {
  "application/vnd.databricks.v1+notebook": {
   "dashboards": [],
   "language": "python",
   "notebookMetadata": {
    "pythonIndentUnit": 4
   },
   "notebookName": "1.search_flight",
   "notebookOrigID": 2064520303337807,
   "widgets": {
    "file_date": {
     "currentValue": "2007-12-31",
     "nuid": "d02eb566-eed7-4f7c-8caa-220c501598a1",
     "widgetInfo": {
      "widgetType": "text",
      "defaultValue": "",
      "label": null,
      "name": "file_date",
      "options": {
       "widgetType": "text",
       "validationRegex": null
      }
     }
    }
   }
  },
  "kernelspec": {
   "display_name": "airlines",
   "language": "python",
   "name": "airlines"
  },
  "language_info": {
   "codemirror_mode": {
    "name": "ipython",
    "version": 3
   },
   "file_extension": ".py",
   "mimetype": "text/x-python",
   "name": "python",
   "nbconvert_exporter": "python",
   "pygments_lexer": "ipython3",
   "version": "3.9.16"
  }
 },
 "nbformat": 4,
 "nbformat_minor": 0
}
