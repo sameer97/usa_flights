{
 "cells": [
  {
   "cell_type": "markdown",
   "id": "25d46ea4-2a16-47e6-bb8e-6f9edb3f3137",
   "metadata": {},
   "source": [
    "### Drop all the tables"
   ]
  },
  {
   "cell_type": "code",
   "execution_count": null,
   "id": "c6f140e2-a4a7-4fc3-936a-2031f498ae5e",
   "metadata": {},
   "outputs": [],
   "source": [
    "DROP DATABASE IF EXISTS dev_air_travel_processed CASCADE;"
   ]
  },
  {
   "cell_type": "code",
   "execution_count": null,
   "id": "a9558ede-457d-4d51-b9f8-974e1200e584",
   "metadata": {},
   "outputs": [],
   "source": [
    "CREATE DATABASE IF NOT EXISTS dev_air_travel_processed\n",
    "LOCATION \"/mnt/airlineblobstorage/process\";"
   ]
  },
  {
   "cell_type": "code",
   "execution_count": null,
   "id": "8d8c1182-778b-475d-9e89-262f60a8af0f",
   "metadata": {},
   "outputs": [],
   "source": [
    "DESC DATABASE EXTENDED dev_air_travel_processed;"
   ]
  },
  {
   "cell_type": "code",
   "execution_count": null,
   "id": "adb0d207-91bf-4509-a26f-272a2a4a12d6",
   "metadata": {},
   "outputs": [],
   "source": [
    "DROP DATABASE IF EXISTS dev_air_travel_present CASCADE;"
   ]
  },
  {
   "cell_type": "code",
   "execution_count": null,
   "id": "66726e0e-879a-4b5b-ae89-4dd4a48ad182",
   "metadata": {},
   "outputs": [],
   "source": [
    "CREATE DATABASE IF NOT EXISTS dev_air_travel_present\n",
    "LOCATION \"/mnt/airlineblobstorage/presentation\";"
   ]
  },
  {
   "cell_type": "code",
   "execution_count": null,
   "id": "3e99f7ba-959d-4aa3-bb1f-4d73bbc93897",
   "metadata": {},
   "outputs": [],
   "source": [
    "DESC DATABASE EXTENDED dev_air_travel_present;"
   ]
  }
 ],
 "metadata": {
  "kernelspec": {
   "display_name": "airlines",
   "language": "python",
   "name": "airlines"
  },
  "language_info": {
   "codemirror_mode": {
    "name": "ipython",
    "version": 3
   },
   "file_extension": ".py",
   "mimetype": "text/x-python",
   "name": "python",
   "nbconvert_exporter": "python",
   "pygments_lexer": "ipython3",
   "version": "3.9.16"
  }
 },
 "nbformat": 4,
 "nbformat_minor": 5
}
